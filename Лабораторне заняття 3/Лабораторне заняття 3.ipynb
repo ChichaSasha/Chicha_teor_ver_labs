{
 "cells": [
  {
   "cell_type": "code",
   "execution_count": 79,
   "metadata": {},
   "outputs": [],
   "source": [
    "import numpy as np\n",
    "from itertools import product\n",
    "from math import factorial"
   ]
  },
  {
   "cell_type": "markdown",
   "metadata": {
    "collapsed": true
   },
   "source": [
    "# Лабораторне заняття №3\n",
    "Дане лабораторне заняття буде присвячене вирішенню задач, вже розв'язаних на практичних заняттях, за допомогою засобів, вивчених на перших двох лабораторних заняттях.\n",
    "\n",
    "Будемо використовувати *Збірник задач з теорії ймовірностей та математичної статистики: навч. посібник / В.В. Голомозий, М.В. Карташов, К.В. Ральченко. – К.: Видавничо-поліграфічний центр «Київський університет», 2015. – 366 с.*\n",
    "Електронну версію збірника можна знайти [тут](http://probability.univ.kiev.ua/userfiles/kmv/gkr-problems.pdf)."
   ]
  },
  {
   "cell_type": "code",
   "execution_count": 3,
   "metadata": {},
   "outputs": [],
   "source": [
    "def show_results(theoretical, empirical):\n",
    "    n = len(theoretical)\n",
    "    print('\\ttheoretical:')\n",
    "    for i in range(0, n):\n",
    "        print('\\t\\t{}. {}'.format(i+1, theoretical[i]))\n",
    "    print('\\tempirical:')\n",
    "    for i in range(0, n):\n",
    "        print('\\t\\t{}. {}'.format(i+1, empirical[i]))"
   ]
  },
  {
   "cell_type": "markdown",
   "metadata": {},
   "source": [
    "## 1 Задача 1.3.6\n",
    "Знайти ймовiрнiсть того, що серед $k$ цифр, кожна з яких вибрана навмання (вибiрка з поверненням):\n",
    "1. не входить $0$;\n",
    "2. не входить $1$;\n",
    "3. не входить нi $0$, нi $1$;\n",
    "4. не входить або $0$, або $1$.\n",
    "\n",
    "Напишіть відповідні функції для обрахунку теоретичної (повним перебором) та еміричної (симулюванням $100000$ експериментів) імовірностей в залежності від параметра $k$.\n",
    "Виведіть результат для\n",
    "- $k = 5$;\n",
    "- $k = 10$."
   ]
  },
  {
   "cell_type": "code",
   "execution_count": 5,
   "metadata": {},
   "outputs": [],
   "source": [
    "def task1_t(k):\n",
    "    # перебирати 10^10 варіантів – дуууже погана ідея ;)\n",
    "    return(pow(9/10, k), pow(9/10, k), pow(8/10, k), 1-pow(8/10, k))\n",
    "\n",
    "def task1_e(k, trials=100000):\n",
    "    digits = np.random.randint(low=0, high=10, size=(trials, k))\n",
    "    count1 = list(np.apply_along_axis(lambda x: all(x!=0), 1, digits)).count(True)\n",
    "    count2 = list(np.apply_along_axis(lambda x: all(x!=1), 1, digits)).count(True)\n",
    "    count3 = list(np.apply_along_axis(lambda x: all(np.logical_and(x!=0, x!=1)), 1, digits)).count(True)\n",
    "    count4 = trials - list(np.apply_along_axis(lambda x: all(np.logical_and(x!=0, x!=1)), 1, digits)).count(True)\n",
    "    return(count1/trials, count2/trials, count3/trials, count4/trials)"
   ]
  },
  {
   "cell_type": "code",
   "execution_count": 6,
   "metadata": {},
   "outputs": [
    {
     "name": "stdout",
     "output_type": "stream",
     "text": [
      "For k = 5\n",
      "\ttheoretical:\n",
      "\t\t1. 0.5904900000000001\n",
      "\t\t2. 0.5904900000000001\n",
      "\t\t3. 0.3276800000000001\n",
      "\t\t4. 0.6723199999999999\n",
      "\tempirical:\n",
      "\t\t1. 0.59298\n",
      "\t\t2. 0.59023\n",
      "\t\t3. 0.32815\n",
      "\t\t4. 0.67185\n",
      "For k = 10\n",
      "\ttheoretical:\n",
      "\t\t1. 0.3486784401000001\n",
      "\t\t2. 0.3486784401000001\n",
      "\t\t3. 0.10737418240000006\n",
      "\t\t4. 0.8926258175999999\n",
      "\tempirical:\n",
      "\t\t1. 0.34808\n",
      "\t\t2. 0.34963\n",
      "\t\t3. 0.10802\n",
      "\t\t4. 0.89198\n"
     ]
    }
   ],
   "source": [
    "for k in [5, 10]:\n",
    "    print('For k =', k)\n",
    "    show_results(task1_t(k), task1_e(k))"
   ]
  },
  {
   "cell_type": "markdown",
   "metadata": {},
   "source": [
    "## 2 Задача 1.3.20\n",
    "Гральний кубик пiдкидають шiсть разiв.\n",
    "Знайти ймовiрнiсть того, що:\n",
    "1. випадуть всi шiсть граней;\n",
    "2. випадуть хоча б двi однаковi гранi;\n",
    "3. випадуть тiльки три рiзнi гранi.\n",
    "\n",
    "Обчисліть теоретичну (повним перебором) та еміричну (симулюванням $100000$ експериментів) імовірності."
   ]
  },
  {
   "cell_type": "code",
   "execution_count": 28,
   "metadata": {},
   "outputs": [],
   "source": [
    "throwings = 6"
   ]
  },
  {
   "cell_type": "code",
   "execution_count": 29,
   "metadata": {},
   "outputs": [
    {
     "data": {
      "text/plain": [
       "(0.015432098765432098, 0.9845679012345679, 0.23148148148148148)"
      ]
     },
     "execution_count": 29,
     "metadata": {},
     "output_type": "execute_result"
    }
   ],
   "source": [
    "def task2_t(throwings):\n",
    "    n = pow(6, throwings)\n",
    "    count1 = 0\n",
    "    count2 = 0\n",
    "    count3 = 0\n",
    "    \n",
    "    for cubes in product(range(1, 7), repeat=throwings):\n",
    "        if len(set(cubes)) == 6:\n",
    "            count1 += 1\n",
    "        if len(set(cubes)) <= 5:\n",
    "            count2 += 1    \n",
    "        if len(set(cubes)) == 3:\n",
    "            count3 += 1\n",
    "    return(count1/n, count2/n, count3/n)\n",
    "\n",
    "# test\n",
    "# task2_t(throwings)"
   ]
  },
  {
   "cell_type": "code",
   "execution_count": 30,
   "metadata": {},
   "outputs": [
    {
     "data": {
      "text/plain": [
       "(0.01501, 0.98499, 0.23081)"
      ]
     },
     "execution_count": 30,
     "metadata": {},
     "output_type": "execute_result"
    }
   ],
   "source": [
    "def task2_e(throwings, trials=100000):\n",
    "    cubes = np.random.randint(low=1, high=7, size=(trials, throwings))\n",
    "    count1 = list(np.apply_along_axis(lambda x: len(set(x)) == 6, 1, cubes)).count(True)\n",
    "    count2 = list(np.apply_along_axis(lambda x: len(set(x)) <= 5, 1, cubes)).count(True)\n",
    "    count3 = list(np.apply_along_axis(lambda x: len(set(x)) == 3, 1, cubes)).count(True)\n",
    "    \n",
    "    return(count1/trials, count2/trials, count3/trials)\n",
    "\n",
    "# test\n",
    "# task2_e(throwings)"
   ]
  },
  {
   "cell_type": "code",
   "execution_count": 32,
   "metadata": {},
   "outputs": [
    {
     "name": "stdout",
     "output_type": "stream",
     "text": [
      "For 6 throwings\n",
      "\ttheoretical:\n",
      "\t\t1. 0.015432098765432098\n",
      "\t\t2. 0.9845679012345679\n",
      "\t\t3. 0.23148148148148148\n",
      "\tempirical:\n",
      "\t\t1. 0.01604\n",
      "\t\t2. 0.98396\n",
      "\t\t3. 0.2306\n"
     ]
    }
   ],
   "source": [
    "print('For {} throwings'.format(throwings))\n",
    "show_results(task2_t(throwings), task2_e(throwings))"
   ]
  },
  {
   "cell_type": "markdown",
   "metadata": {},
   "source": [
    "## 3 Задача 1.4.7\n",
    "В класi $35$ учнiв: $20$ дiвчаток та $15$ хлопчикiв.\n",
    "Вирiшено за допомогою жеребу розподiлити серед учнiв чотири квитки в театр.\n",
    "Яка ймовiрнiсть, що квитки отримають:\n",
    "1. чотири дiвчинки;\n",
    "2. два хлопчики та двi дiвчинки?\n",
    "\n",
    "Обчисліть теоретичну (повним перебором) та еміричну (симулюванням $100000$ експериментів) імовірності."
   ]
  },
  {
   "cell_type": "code",
   "execution_count": 47,
   "metadata": {},
   "outputs": [],
   "source": [
    "from itertools import combinations"
   ]
  },
  {
   "cell_type": "code",
   "execution_count": 48,
   "metadata": {},
   "outputs": [],
   "source": [
    "def task3_t():\n",
    "    n = 0\n",
    "    count1 = 0\n",
    "    count2 = 0\n",
    "    children = ['G'] * 20 + ['B'] * 15\n",
    "    for winner in combinations(children, 4):\n",
    "        n += 1\n",
    "        if winner.count('G') == 4:\n",
    "            count1 += 1\n",
    "        if winner.count('G') == 2:\n",
    "            count2 += 1\n",
    "    return (count1/n, count2/n)\n",
    "\n",
    "# test\n",
    "# task3_t()"
   ]
  },
  {
   "cell_type": "code",
   "execution_count": 76,
   "metadata": {},
   "outputs": [],
   "source": [
    "def task3_e(trials=100000):\n",
    "    children = ['G'] * 20 + ['B'] * 15\n",
    "    \n",
    "    winners = np.concatenate([[np.random.choice(children, size=4, replace=False)] for i in range(trials)], axis=0)\n",
    "    \n",
    "    count1 = list(np.apply_along_axis(lambda x: list(x).count('G')==4, 1, winners)).count(True)\n",
    "    count2 = list(np.apply_along_axis(lambda x: list(x).count('G')==2, 1, winners)).count(True)\n",
    "    return(count1/trials, count2/trials)\n",
    "\n",
    "# test\n",
    "# task3_e()"
   ]
  },
  {
   "cell_type": "code",
   "execution_count": 77,
   "metadata": {},
   "outputs": [
    {
     "name": "stdout",
     "output_type": "stream",
     "text": [
      "\ttheoretical:\n",
      "\t\t1. 0.09253246753246754\n",
      "\t\t2. 0.3810160427807487\n",
      "\tempirical:\n",
      "\t\t1. 0.09237\n",
      "\t\t2. 0.38195\n"
     ]
    }
   ],
   "source": [
    "show_results(task3_t(), task3_e())"
   ]
  },
  {
   "cell_type": "markdown",
   "metadata": {},
   "source": [
    "## 4 Задача 1.4.8\n",
    "В урнi мiститься двi бiлих та чотири чорних кулi.\n",
    "З урни одну за одною виймають всi кулi.\n",
    "Знайти ймовiрнiсть того, що вийнята останньою куля буде бiлою.\n",
    "\n",
    "Обчисліть теоретичну (повним перебором) та еміричну (симулюванням $100000$ експериментів) імовірності."
   ]
  },
  {
   "cell_type": "code",
   "execution_count": 78,
   "metadata": {},
   "outputs": [],
   "source": [
    "from itertools import permutations"
   ]
  },
  {
   "cell_type": "code",
   "execution_count": 87,
   "metadata": {},
   "outputs": [],
   "source": [
    "def task4_t(bl, wh):\n",
    "    balls = ['b']*bl + ['w']*wh\n",
    "    b_count = 0\n",
    "    w_count = 0\n",
    "    for seq in permutations(balls):\n",
    "        if seq[-1] == 'b':\n",
    "            b_count += 1\n",
    "        else:\n",
    "            w_count += 1\n",
    "    return(w_count / factorial(len(balls)), )"
   ]
  },
  {
   "cell_type": "code",
   "execution_count": 88,
   "metadata": {},
   "outputs": [],
   "source": [
    "def task4_e(bl, wh, trials=100000):\n",
    "    balls = ['b']*bl + ['w']*wh\n",
    "    w_count = list(np.random.choice(balls, size=(trials, 1))).count('w')\n",
    "    return(w_count / trials, )"
   ]
  },
  {
   "cell_type": "code",
   "execution_count": 89,
   "metadata": {},
   "outputs": [
    {
     "name": "stdout",
     "output_type": "stream",
     "text": [
      "For 4 black and 2 white balls\n",
      "\ttheoretical:\n",
      "\t\t1. 0.3333333333333333\n",
      "\tempirical:\n",
      "\t\t1. 0.33284\n"
     ]
    }
   ],
   "source": [
    "print('For {} black and {} white balls'.format(4, 2))\n",
    "show_results(task4_t(4, 2), task4_e(4, 2))"
   ]
  },
  {
   "cell_type": "markdown",
   "metadata": {},
   "source": [
    "## 5 Задача 1.4.15\n",
    "Колода з $52$ гральних карт ретельно тасується, пiсля чого одна за одною вiдкриваються верхнi карти до появи першого туза.\n",
    "Яка ймовiрнiсть того, що:\n",
    "1. першим тузом виявиться п’ята карта;\n",
    "2. першим тузом виявиться $k$-а карта;\n",
    "3. перший туз зустрiнеться не пiзнiше $k$-ої карти?\n",
    "\n",
    "Напишіть функцію для обрахунку еміричної (симулюванням $100000$ експериментів) імовірності в залежності від параметра $k$.\n",
    "Виведіть результат (пункти $2.$ та $3.$) для\n",
    "- $k = 5$;\n",
    "- $k = 8$;\n",
    "- $k = 10$."
   ]
  },
  {
   "cell_type": "code",
   "execution_count": 91,
   "metadata": {},
   "outputs": [],
   "source": [
    "RANKS = {'2', '3', '4', '5', '6', '7', '8', '9', '10', 'J', 'Q', 'K', 'A'}\n",
    "SUITS = {'♢', '♠', '♣', '♡'}\n",
    "\n",
    "cards = [(r, s) for r in RANKS for s in SUITS]"
   ]
  },
  {
   "cell_type": "code",
   "execution_count": 112,
   "metadata": {},
   "outputs": [],
   "source": [
    "def task5_e(k, cards=cards, trials=100000):\n",
    "    count1 = 0  # рівно k-тий\n",
    "    count2 = 0  # не пізніше k-ого\n",
    "    for i in range(trials):\n",
    "        np.random.shuffle(cards)\n",
    "        hand = cards[:k]\n",
    "        if hand[-1][0] == 'A':\n",
    "            count1 += 1\n",
    "        if any(map(lambda x: 'A' in x, hand)):\n",
    "            count2 += 1\n",
    "    return(count1/trials, count2/trials)"
   ]
  },
  {
   "cell_type": "code",
   "execution_count": 113,
   "metadata": {},
   "outputs": [
    {
     "name": "stdout",
     "output_type": "stream",
     "text": [
      "For k = 5\n",
      "\tempirical:\n",
      "\t\t1. exact k-th - 0.07663\n",
      "\t\t2. less than k-th - 0.33882\n",
      "For k = 8\n",
      "\tempirical:\n",
      "\t\t1. exact k-th - 0.07742\n",
      "\t\t2. less than k-th - 0.49814\n",
      "For k = 10\n",
      "\tempirical:\n",
      "\t\t1. exact k-th - 0.07728\n",
      "\t\t2. less than k-th - 0.58528\n"
     ]
    }
   ],
   "source": [
    "for k in [5, 8, 10]:\n",
    "    print('For k =', k)\n",
    "    proba = task5_e(k)\n",
    "    print('\\tempirical:')\n",
    "    print('\\t\\t1. exact k-th -', proba[0])\n",
    "    print('\\t\\t2. less than k-th -', proba[1])"
   ]
  }
 ],
 "metadata": {
  "kernelspec": {
   "display_name": "Python 3",
   "language": "python",
   "name": "python3"
  },
  "language_info": {
   "codemirror_mode": {
    "name": "ipython",
    "version": 3
   },
   "file_extension": ".py",
   "mimetype": "text/x-python",
   "name": "python",
   "nbconvert_exporter": "python",
   "pygments_lexer": "ipython3",
   "version": "3.6.5"
  }
 },
 "nbformat": 4,
 "nbformat_minor": 1
}
